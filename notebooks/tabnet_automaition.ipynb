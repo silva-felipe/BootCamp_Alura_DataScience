{
  "nbformat": 4,
  "nbformat_minor": 0,
  "metadata": {
    "colab": {
      "name": "tabnet_automaition",
      "provenance": [],
      "authorship_tag": "ABX9TyNfb6wbvKlChUO1qywUsgjB",
      "include_colab_link": true
    },
    "kernelspec": {
      "name": "python3",
      "display_name": "Python 3"
    },
    "language_info": {
      "name": "python"
    }
  },
  "cells": [
    {
      "cell_type": "markdown",
      "metadata": {
        "id": "view-in-github",
        "colab_type": "text"
      },
      "source": [
        "<a href=\"https://colab.research.google.com/github/silva-felipe/BootCamp_Alura_DataScience/blob/main/notebooks/tabnet_automaition.ipynb\" target=\"_parent\"><img src=\"https://colab.research.google.com/assets/colab-badge.svg\" alt=\"Open In Colab\"/></a>"
      ]
    },
    {
      "cell_type": "markdown",
      "metadata": {
        "id": "f42B6eKQUtFb"
      },
      "source": [
        "**Instalando os módulos necessários**"
      ]
    },
    {
      "cell_type": "code",
      "metadata": {
        "colab": {
          "base_uri": "https://localhost:8080/"
        },
        "id": "ImsBtg05Rl_2",
        "outputId": "07dbf3ff-16a0-449f-8e0e-fad8b2c1c7b8"
      },
      "source": [
        "!pip install selenium\n",
        "!apt-get update \n",
        "!apt install chromium-chromedriver"
      ],
      "execution_count": 6,
      "outputs": [
        {
          "output_type": "stream",
          "text": [
            "Requirement already satisfied: selenium in /usr/local/lib/python3.7/dist-packages (3.141.0)\n",
            "Requirement already satisfied: urllib3 in /usr/local/lib/python3.7/dist-packages (from selenium) (1.24.3)\n",
            "Hit:1 http://security.ubuntu.com/ubuntu bionic-security InRelease\n",
            "Hit:2 https://cloud.r-project.org/bin/linux/ubuntu bionic-cran40/ InRelease\n",
            "Ign:3 https://developer.download.nvidia.com/compute/cuda/repos/ubuntu1804/x86_64  InRelease\n",
            "Hit:4 http://archive.ubuntu.com/ubuntu bionic InRelease\n",
            "Hit:5 http://ppa.launchpad.net/c2d4u.team/c2d4u4.0+/ubuntu bionic InRelease\n",
            "Ign:6 https://developer.download.nvidia.com/compute/machine-learning/repos/ubuntu1804/x86_64  InRelease\n",
            "Hit:7 https://developer.download.nvidia.com/compute/cuda/repos/ubuntu1804/x86_64  Release\n",
            "Hit:8 https://developer.download.nvidia.com/compute/machine-learning/repos/ubuntu1804/x86_64  Release\n",
            "Hit:9 http://archive.ubuntu.com/ubuntu bionic-updates InRelease\n",
            "Hit:10 http://archive.ubuntu.com/ubuntu bionic-backports InRelease\n",
            "Hit:11 http://ppa.launchpad.net/cran/libgit2/ubuntu bionic InRelease\n",
            "Hit:12 http://ppa.launchpad.net/deadsnakes/ppa/ubuntu bionic InRelease\n",
            "Hit:13 http://ppa.launchpad.net/graphics-drivers/ppa/ubuntu bionic InRelease\n",
            "Reading package lists... Done\n",
            "Reading package lists... Done\n",
            "Building dependency tree       \n",
            "Reading state information... Done\n",
            "chromium-chromedriver is already the newest version (91.0.4472.77-0ubuntu0.18.04.1).\n",
            "0 upgraded, 0 newly installed, 0 to remove and 48 not upgraded.\n"
          ],
          "name": "stdout"
        }
      ]
    },
    {
      "cell_type": "markdown",
      "metadata": {
        "id": "IxlHlKskUzHe"
      },
      "source": [
        "**Script para automação no download**"
      ]
    },
    {
      "cell_type": "code",
      "metadata": {
        "colab": {
          "base_uri": "https://localhost:8080/"
        },
        "id": "G33g8-7-R9Rc",
        "outputId": "387f8be5-d3f6-4a87-cdad-d64a31bacd01"
      },
      "source": [
        "import time\n",
        "from selenium import webdriver\n",
        "from selenium.webdriver.common.by import By\n",
        "from selenium.webdriver.support import expected_conditions as EC\n",
        "from selenium.webdriver.support.ui import WebDriverWait\n",
        "from selenium.webdriver.support.ui import Select\n",
        "\n",
        "opcao: int = 2019 # Ano que sera feito o download\n",
        "\n",
        "anos: int = int(input('Qtos anos deseja fazer o download: ')) # qtd de anos\n",
        "\n",
        "for _ in range(anos): # numero de interações referente a qtd de anos\n",
        "  # -------------- opções para abrir o site ------------ #\n",
        "  chrome_options = webdriver.ChromeOptions()\n",
        "  chrome_options.add_argument('--headless')\n",
        "  chrome_options.add_argument('--no-sandbox')\n",
        "  chrome_options.add_argument('--disable-dev-shm-usage')\n",
        "  driver = webdriver.Chrome('chromedriver', options=chrome_options)\n",
        "\n",
        "  # -------------- Abrindo o site ------------ #\n",
        "  driver.get(\"http://tabnet.datasus.gov.br/cgi/tabcgi.exe?pni/cnv/cpniuf.def\")\n",
        "  driver.maximize_window() \n",
        "\n",
        "  # -------------- localizando os elementos e clicando ------------ #\n",
        "  linhas = WebDriverWait(driver, 30).until(EC.presence_of_element_located(\n",
        "      (By.XPATH, '// *[ @ id = \"L\"] / option[3]')))\n",
        "  linhas.click()\n",
        "  time.sleep(2)  \n",
        "\n",
        "  colunas = WebDriverWait(driver, 30).until(EC.presence_of_element_located(\n",
        "      (By.XPATH, '//*[@id=\"C\"]/option[4]')))\n",
        "  colunas.click()\n",
        "  time.sleep(2)  \n",
        "\n",
        "  conteudo_box = WebDriverWait(driver, 30).until(EC.presence_of_element_located(\n",
        "      (By.XPATH, '//select[@name=\"Incremento\"]')))\n",
        "  conteudo_box.click()\n",
        "  time.sleep(2)  \n",
        "\n",
        "  el_ano = driver.find_element(By.ID, 'A')\n",
        "  select = Select(el_ano)\n",
        "  select.deselect_all()\n",
        "  select.select_by_visible_text('{}'.format(opcao))  \n",
        "  opcao -= 1 \n",
        "\n",
        "  # -------------- clicando no botão mostrar ------------ #\n",
        "  mostra = WebDriverWait(driver, 30).until(EC.presence_of_element_located(\n",
        "      (By.XPATH, '/html/body/div/div/center/div/form/div[4]/div[2]/div[2]/input[1]')))\n",
        "  mostra.click()\n",
        "  time.sleep(5)  \n",
        "\n",
        "  # -------------- clicando no botão download(csv) ------------ #\n",
        "  download = WebDriverWait(driver, 30).until(EC.presence_of_element_located(\n",
        "      (By.XPATH, '/html/body/div/div/div[3]/table[1]/tbody/tr/td[1]/a')))\n",
        "  download.click()\n",
        "\n",
        "  # -------------- espera para fazer o download ------------ #\n",
        "  time.sleep(5)  \n",
        "\n",
        "  # -------------- fechando o navegador ------------ #\n",
        "  driver.quit()"
      ],
      "execution_count": 11,
      "outputs": [
        {
          "output_type": "stream",
          "text": [
            "Qtos anos deseja fazer o download: 10\n"
          ],
          "name": "stdout"
        }
      ]
    },
    {
      "cell_type": "code",
      "metadata": {
        "id": "zG_A3LLgXhK-"
      },
      "source": [
        ""
      ],
      "execution_count": null,
      "outputs": []
    }
  ]
}